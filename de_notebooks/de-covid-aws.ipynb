{
 "cells": [
  {
   "cell_type": "code",
   "execution_count": 1,
   "id": "65c1f79e",
   "metadata": {},
   "outputs": [],
   "source": [
    "import boto3\n",
    "import time"
   ]
  },
  {
   "cell_type": "code",
   "execution_count": 2,
   "id": "5982ea05",
   "metadata": {},
   "outputs": [],
   "source": [
    "import pandas as pd\n",
    "from io import StringIO"
   ]
  },
  {
   "cell_type": "code",
   "execution_count": null,
   "id": "71a74df9",
   "metadata": {},
   "outputs": [],
   "source": []
  },
  {
   "cell_type": "code",
   "execution_count": 6,
   "id": "53e46c58",
   "metadata": {},
   "outputs": [],
   "source": [
    "athenaClient = boto3.client(\n",
    "    \"athena\",\n",
    "    aws_access_key_id=AWS_ACCESS_KEY,\n",
    "    aws_secret_access_key=AWS_SECRET_ACCESS_KEY,\n",
    "    region_name=AWS_REGION)"
   ]
  },
  {
   "cell_type": "code",
   "execution_count": 34,
   "id": "1101f0ed",
   "metadata": {},
   "outputs": [],
   "source": [
    "Dict = {}\n",
    "def download_and_load_query_results(client, query_response):\n",
    "    while True:\n",
    "        try:\n",
    "            client.get_query_results(\n",
    "                QueryExecutionId=query_response[\"QueryExecutionId\"]\n",
    "            )\n",
    "            break\n",
    "        except Exception as err:\n",
    "            if \"not yet finished\" in str(err):\n",
    "                time.sleep(2)\n",
    "            else:\n",
    "                raise err\n",
    "                \n",
    "    temp_file_location = \"athena_query_results.csv\"\n",
    "    s3_client = boto3.client(\"s3\",\n",
    "                            aws_access_key_id=AWS_ACCESS_KEY,\n",
    "                            aws_secret_access_key=AWS_SECRET_ACCESS_KEY,\n",
    "                            region_name=AWS_REGION)\n",
    "    s3_client.download_file(\n",
    "    S3_BUCKET_NAME,\n",
    "    f\"{S3_OUTPUT_DIRECTORY}/{query_response['QueryExecutionId']}.csv\",\n",
    "    temp_file_location)\n",
    "    return pd.read_csv(temp_file_location)"
   ]
  },
  {
   "cell_type": "code",
   "execution_count": 37,
   "id": "a309f07e",
   "metadata": {},
   "outputs": [],
   "source": [
    "response = athenaClient.start_query_execution(\n",
    "    QueryString = \"SELECT * FROM enigma_jhu;\",\n",
    "    QueryExecutionContext={\"Database\":SCHEMA_NAME},\n",
    "    ResultConfiguration={\n",
    "        \"OutputLocation\":S3_STAGING_DIR,\n",
    "        \"EncryptionConfiguration\":{\"EncryptionOption\":\"SSE_S3\"}    \n",
    "    })"
   ]
  },
  {
   "cell_type": "code",
   "execution_count": 38,
   "id": "6d372394",
   "metadata": {},
   "outputs": [
    {
     "data": {
      "text/plain": [
       "{'QueryExecutionId': '5490a2b6-82da-48a9-ac86-ca629387f1d2',\n",
       " 'ResponseMetadata': {'RequestId': 'f3fdd710-13a8-4c1e-8a14-f18c29961344',\n",
       "  'HTTPStatusCode': 200,\n",
       "  'HTTPHeaders': {'date': 'Sun, 30 Oct 2022 09:09:50 GMT',\n",
       "   'content-type': 'application/x-amz-json-1.1',\n",
       "   'content-length': '59',\n",
       "   'connection': 'keep-alive',\n",
       "   'x-amzn-requestid': 'f3fdd710-13a8-4c1e-8a14-f18c29961344'},\n",
       "  'RetryAttempts': 0}}"
      ]
     },
     "execution_count": 38,
     "metadata": {},
     "output_type": "execute_result"
    }
   ],
   "source": [
    "response"
   ]
  },
  {
   "cell_type": "code",
   "execution_count": 41,
   "id": "d3326294",
   "metadata": {},
   "outputs": [],
   "source": [
    "enigJhu = download_and_load_query_results(athenaClient,response)"
   ]
  },
  {
   "cell_type": "code",
   "execution_count": 42,
   "id": "d11c7b75",
   "metadata": {},
   "outputs": [
    {
     "data": {
      "text/html": [
       "<div>\n",
       "<style scoped>\n",
       "    .dataframe tbody tr th:only-of-type {\n",
       "        vertical-align: middle;\n",
       "    }\n",
       "\n",
       "    .dataframe tbody tr th {\n",
       "        vertical-align: top;\n",
       "    }\n",
       "\n",
       "    .dataframe thead th {\n",
       "        text-align: right;\n",
       "    }\n",
       "</style>\n",
       "<table border=\"1\" class=\"dataframe\">\n",
       "  <thead>\n",
       "    <tr style=\"text-align: right;\">\n",
       "      <th></th>\n",
       "      <th>fips</th>\n",
       "      <th>admin2</th>\n",
       "      <th>province_state</th>\n",
       "      <th>country_region</th>\n",
       "      <th>last_update</th>\n",
       "      <th>latitude</th>\n",
       "      <th>longitude</th>\n",
       "      <th>confirmed</th>\n",
       "      <th>deaths</th>\n",
       "      <th>recovered</th>\n",
       "      <th>active</th>\n",
       "      <th>combined_key</th>\n",
       "    </tr>\n",
       "  </thead>\n",
       "  <tbody>\n",
       "    <tr>\n",
       "      <th>0</th>\n",
       "      <td>NaN</td>\n",
       "      <td>NaN</td>\n",
       "      <td>Anhui</td>\n",
       "      <td>China</td>\n",
       "      <td>2020-01-22T17:00:00</td>\n",
       "      <td>31.826</td>\n",
       "      <td>117.226</td>\n",
       "      <td>1.0</td>\n",
       "      <td>NaN</td>\n",
       "      <td>NaN</td>\n",
       "      <td>NaN</td>\n",
       "      <td>\"Anhui</td>\n",
       "    </tr>\n",
       "    <tr>\n",
       "      <th>1</th>\n",
       "      <td>NaN</td>\n",
       "      <td>NaN</td>\n",
       "      <td>Beijing</td>\n",
       "      <td>China</td>\n",
       "      <td>2020-01-22T17:00:00</td>\n",
       "      <td>40.182</td>\n",
       "      <td>116.414</td>\n",
       "      <td>14.0</td>\n",
       "      <td>NaN</td>\n",
       "      <td>NaN</td>\n",
       "      <td>NaN</td>\n",
       "      <td>\"Beijing</td>\n",
       "    </tr>\n",
       "    <tr>\n",
       "      <th>2</th>\n",
       "      <td>NaN</td>\n",
       "      <td>NaN</td>\n",
       "      <td>Chongqing</td>\n",
       "      <td>China</td>\n",
       "      <td>2020-01-22T17:00:00</td>\n",
       "      <td>30.057</td>\n",
       "      <td>107.874</td>\n",
       "      <td>6.0</td>\n",
       "      <td>NaN</td>\n",
       "      <td>NaN</td>\n",
       "      <td>NaN</td>\n",
       "      <td>\"Chongqing</td>\n",
       "    </tr>\n",
       "    <tr>\n",
       "      <th>3</th>\n",
       "      <td>NaN</td>\n",
       "      <td>NaN</td>\n",
       "      <td>Fujian</td>\n",
       "      <td>China</td>\n",
       "      <td>2020-01-22T17:00:00</td>\n",
       "      <td>26.079</td>\n",
       "      <td>117.987</td>\n",
       "      <td>1.0</td>\n",
       "      <td>NaN</td>\n",
       "      <td>NaN</td>\n",
       "      <td>NaN</td>\n",
       "      <td>\"Fujian</td>\n",
       "    </tr>\n",
       "    <tr>\n",
       "      <th>4</th>\n",
       "      <td>NaN</td>\n",
       "      <td>NaN</td>\n",
       "      <td>Gansu</td>\n",
       "      <td>China</td>\n",
       "      <td>2020-01-22T17:00:00</td>\n",
       "      <td>36.061</td>\n",
       "      <td>103.834</td>\n",
       "      <td>NaN</td>\n",
       "      <td>NaN</td>\n",
       "      <td>NaN</td>\n",
       "      <td>NaN</td>\n",
       "      <td>\"Gansu</td>\n",
       "    </tr>\n",
       "    <tr>\n",
       "      <th>...</th>\n",
       "      <td>...</td>\n",
       "      <td>...</td>\n",
       "      <td>...</td>\n",
       "      <td>...</td>\n",
       "      <td>...</td>\n",
       "      <td>...</td>\n",
       "      <td>...</td>\n",
       "      <td>...</td>\n",
       "      <td>...</td>\n",
       "      <td>...</td>\n",
       "      <td>...</td>\n",
       "      <td>...</td>\n",
       "    </tr>\n",
       "    <tr>\n",
       "      <th>222799</th>\n",
       "      <td>NaN</td>\n",
       "      <td>NaN</td>\n",
       "      <td>NaN</td>\n",
       "      <td>West Bank and Gaza</td>\n",
       "      <td>2020-05-30T02:32:48</td>\n",
       "      <td>31.952</td>\n",
       "      <td>35.233</td>\n",
       "      <td>446.0</td>\n",
       "      <td>3.0</td>\n",
       "      <td>368.0</td>\n",
       "      <td>75.0</td>\n",
       "      <td>West Bank and Gaza</td>\n",
       "    </tr>\n",
       "    <tr>\n",
       "      <th>222800</th>\n",
       "      <td>NaN</td>\n",
       "      <td>NaN</td>\n",
       "      <td>NaN</td>\n",
       "      <td>Western Sahara</td>\n",
       "      <td>2020-05-30T02:32:48</td>\n",
       "      <td>24.215</td>\n",
       "      <td>-12.886</td>\n",
       "      <td>9.0</td>\n",
       "      <td>1.0</td>\n",
       "      <td>6.0</td>\n",
       "      <td>2.0</td>\n",
       "      <td>Western Sahara</td>\n",
       "    </tr>\n",
       "    <tr>\n",
       "      <th>222801</th>\n",
       "      <td>NaN</td>\n",
       "      <td>NaN</td>\n",
       "      <td>NaN</td>\n",
       "      <td>Yemen</td>\n",
       "      <td>2020-05-30T02:32:48</td>\n",
       "      <td>15.553</td>\n",
       "      <td>48.516</td>\n",
       "      <td>283.0</td>\n",
       "      <td>65.0</td>\n",
       "      <td>11.0</td>\n",
       "      <td>207.0</td>\n",
       "      <td>Yemen</td>\n",
       "    </tr>\n",
       "    <tr>\n",
       "      <th>222802</th>\n",
       "      <td>NaN</td>\n",
       "      <td>NaN</td>\n",
       "      <td>NaN</td>\n",
       "      <td>Zambia</td>\n",
       "      <td>2020-05-30T02:32:48</td>\n",
       "      <td>-15.417</td>\n",
       "      <td>28.283</td>\n",
       "      <td>1057.0</td>\n",
       "      <td>7.0</td>\n",
       "      <td>779.0</td>\n",
       "      <td>271.0</td>\n",
       "      <td>Zambia</td>\n",
       "    </tr>\n",
       "    <tr>\n",
       "      <th>222803</th>\n",
       "      <td>NaN</td>\n",
       "      <td>NaN</td>\n",
       "      <td>NaN</td>\n",
       "      <td>Zimbabwe</td>\n",
       "      <td>2020-05-30T02:32:48</td>\n",
       "      <td>-20.000</td>\n",
       "      <td>30.000</td>\n",
       "      <td>149.0</td>\n",
       "      <td>4.0</td>\n",
       "      <td>28.0</td>\n",
       "      <td>117.0</td>\n",
       "      <td>Zimbabwe</td>\n",
       "    </tr>\n",
       "  </tbody>\n",
       "</table>\n",
       "<p>222804 rows × 12 columns</p>\n",
       "</div>"
      ],
      "text/plain": [
       "        fips admin2 province_state      country_region          last_update  \\\n",
       "0        NaN    NaN          Anhui               China  2020-01-22T17:00:00   \n",
       "1        NaN    NaN        Beijing               China  2020-01-22T17:00:00   \n",
       "2        NaN    NaN      Chongqing               China  2020-01-22T17:00:00   \n",
       "3        NaN    NaN         Fujian               China  2020-01-22T17:00:00   \n",
       "4        NaN    NaN          Gansu               China  2020-01-22T17:00:00   \n",
       "...      ...    ...            ...                 ...                  ...   \n",
       "222799   NaN    NaN            NaN  West Bank and Gaza  2020-05-30T02:32:48   \n",
       "222800   NaN    NaN            NaN      Western Sahara  2020-05-30T02:32:48   \n",
       "222801   NaN    NaN            NaN               Yemen  2020-05-30T02:32:48   \n",
       "222802   NaN    NaN            NaN              Zambia  2020-05-30T02:32:48   \n",
       "222803   NaN    NaN            NaN            Zimbabwe  2020-05-30T02:32:48   \n",
       "\n",
       "        latitude  longitude  confirmed  deaths  recovered  active  \\\n",
       "0         31.826    117.226        1.0     NaN        NaN     NaN   \n",
       "1         40.182    116.414       14.0     NaN        NaN     NaN   \n",
       "2         30.057    107.874        6.0     NaN        NaN     NaN   \n",
       "3         26.079    117.987        1.0     NaN        NaN     NaN   \n",
       "4         36.061    103.834        NaN     NaN        NaN     NaN   \n",
       "...          ...        ...        ...     ...        ...     ...   \n",
       "222799    31.952     35.233      446.0     3.0      368.0    75.0   \n",
       "222800    24.215    -12.886        9.0     1.0        6.0     2.0   \n",
       "222801    15.553     48.516      283.0    65.0       11.0   207.0   \n",
       "222802   -15.417     28.283     1057.0     7.0      779.0   271.0   \n",
       "222803   -20.000     30.000      149.0     4.0       28.0   117.0   \n",
       "\n",
       "              combined_key  \n",
       "0                   \"Anhui  \n",
       "1                 \"Beijing  \n",
       "2               \"Chongqing  \n",
       "3                  \"Fujian  \n",
       "4                   \"Gansu  \n",
       "...                    ...  \n",
       "222799  West Bank and Gaza  \n",
       "222800      Western Sahara  \n",
       "222801               Yemen  \n",
       "222802              Zambia  \n",
       "222803            Zimbabwe  \n",
       "\n",
       "[222804 rows x 12 columns]"
      ]
     },
     "execution_count": 42,
     "metadata": {},
     "output_type": "execute_result"
    }
   ],
   "source": [
    "enigJhu"
   ]
  },
  {
   "cell_type": "code",
   "execution_count": 51,
   "id": "dc56dcfd",
   "metadata": {},
   "outputs": [],
   "source": [
    "enigJhu.to_csv('enigma_jhu.csv')"
   ]
  },
  {
   "cell_type": "code",
   "execution_count": 45,
   "id": "4752b5e0",
   "metadata": {},
   "outputs": [],
   "source": [
    "response = athenaClient.start_query_execution(\n",
    "    QueryString = \"SELECT * FROM hospitalbedsrearc_usa_hospital_bed_de_tutorial;\",\n",
    "    QueryExecutionContext={\"Database\":SCHEMA_NAME},\n",
    "    ResultConfiguration={\n",
    "        \"OutputLocation\":S3_STAGING_DIR,\n",
    "        \"EncryptionConfiguration\":{\"EncryptionOption\":\"SSE_S3\"}    \n",
    "    })\n",
    "\n",
    "hospitalBeds = download_and_load_query_results(athenaClient,response)"
   ]
  },
  {
   "cell_type": "code",
   "execution_count": 56,
   "id": "2bd2c5f3",
   "metadata": {},
   "outputs": [],
   "source": [
    "hospitalBeds.to_csv('hospitalBeds.csv')"
   ]
  },
  {
   "cell_type": "code",
   "execution_count": 46,
   "id": "28f6341d",
   "metadata": {},
   "outputs": [],
   "source": [
    "response = athenaClient.start_query_execution(\n",
    "    QueryString = \"SELECT * FROM nytuscountiesuscounties;\",\n",
    "    QueryExecutionContext={\"Database\":SCHEMA_NAME},\n",
    "    ResultConfiguration={\n",
    "        \"OutputLocation\":S3_STAGING_DIR,\n",
    "        \"EncryptionConfiguration\":{\"EncryptionOption\":\"SSE_S3\"}    \n",
    "    })\n",
    "\n",
    "nytusCounties = download_and_load_query_results(athenaClient,response)"
   ]
  },
  {
   "cell_type": "code",
   "execution_count": 57,
   "id": "c8bf9c4e",
   "metadata": {},
   "outputs": [],
   "source": [
    "nytusCounties.to_csv('nytusCounties.csv')"
   ]
  },
  {
   "cell_type": "code",
   "execution_count": 47,
   "id": "7dc49282",
   "metadata": {},
   "outputs": [],
   "source": [
    "response = athenaClient.start_query_execution(\n",
    "    QueryString = \"SELECT * FROM nytusstatesusstates;\",\n",
    "    QueryExecutionContext={\"Database\":SCHEMA_NAME},\n",
    "    ResultConfiguration={\n",
    "        \"OutputLocation\":S3_STAGING_DIR,\n",
    "        \"EncryptionConfiguration\":{\"EncryptionOption\":\"SSE_S3\"}    \n",
    "    })\n",
    "\n",
    "nytUsStates = download_and_load_query_results(athenaClient,response)"
   ]
  },
  {
   "cell_type": "code",
   "execution_count": 58,
   "id": "f54cde22",
   "metadata": {},
   "outputs": [],
   "source": [
    "nytUsStates.to_csv('nytUsStates.csv')"
   ]
  },
  {
   "cell_type": "code",
   "execution_count": 48,
   "id": "96dd2e02",
   "metadata": {},
   "outputs": [],
   "source": [
    "response = athenaClient.start_query_execution(\n",
    "    QueryString = \"SELECT * FROM staticdatacountrycode;\",\n",
    "    QueryExecutionContext={\"Database\":SCHEMA_NAME},\n",
    "    ResultConfiguration={\n",
    "        \"OutputLocation\":S3_STAGING_DIR,\n",
    "        \"EncryptionConfiguration\":{\"EncryptionOption\":\"SSE_S3\"}    \n",
    "    })\n",
    "\n",
    "countryCode = download_and_load_query_results(athenaClient,response)"
   ]
  },
  {
   "cell_type": "code",
   "execution_count": 59,
   "id": "979c6c82",
   "metadata": {},
   "outputs": [],
   "source": [
    "countryCode.to_csv('CountryCode.csv')"
   ]
  },
  {
   "cell_type": "code",
   "execution_count": 49,
   "id": "f09c1ec3",
   "metadata": {},
   "outputs": [],
   "source": [
    "response = athenaClient.start_query_execution(\n",
    "    QueryString = \"SELECT * FROM staticdatacountypopulation;\",\n",
    "    QueryExecutionContext={\"Database\":SCHEMA_NAME},\n",
    "    ResultConfiguration={\n",
    "        \"OutputLocation\":S3_STAGING_DIR,\n",
    "        \"EncryptionConfiguration\":{\"EncryptionOption\":\"SSE_S3\"}    \n",
    "    })\n",
    "\n",
    "countyPop = download_and_load_query_results(athenaClient,response)"
   ]
  },
  {
   "cell_type": "code",
   "execution_count": 60,
   "id": "18565728",
   "metadata": {},
   "outputs": [],
   "source": [
    "countyPop.to_csv('countyPop.csv')"
   ]
  },
  {
   "cell_type": "code",
   "execution_count": 50,
   "id": "82170f36",
   "metadata": {},
   "outputs": [],
   "source": [
    "response = athenaClient.start_query_execution(\n",
    "    QueryString = \"SELECT * FROM staticdatastateabvr;\",\n",
    "    QueryExecutionContext={\"Database\":SCHEMA_NAME},\n",
    "    ResultConfiguration={\n",
    "        \"OutputLocation\":S3_STAGING_DIR,\n",
    "        \"EncryptionConfiguration\":{\"EncryptionOption\":\"SSE_S3\"}    \n",
    "    })\n",
    "\n",
    "staticStateAbbr = download_and_load_query_results(athenaClient,response)"
   ]
  },
  {
   "cell_type": "code",
   "execution_count": 62,
   "id": "9499b482",
   "metadata": {},
   "outputs": [],
   "source": [
    "staticStateAbbr.to_csv('staticState.csv')"
   ]
  },
  {
   "cell_type": "code",
   "execution_count": 63,
   "id": "fb95ccc5",
   "metadata": {},
   "outputs": [],
   "source": [
    "response = athenaClient.start_query_execution(\n",
    "    QueryString = \"SELECT * FROM testingdailydaily_data;\",\n",
    "    QueryExecutionContext={\"Database\":SCHEMA_NAME},\n",
    "    ResultConfiguration={\n",
    "        \"OutputLocation\":S3_STAGING_DIR,\n",
    "        \"EncryptionConfiguration\":{\"EncryptionOption\":\"SSE_S3\"}    \n",
    "    })\n",
    "\n",
    "testingDaily = download_and_load_query_results(athenaClient,response)\n",
    "testingDaily.to_csv('testingDaily.csv')"
   ]
  },
  {
   "cell_type": "code",
   "execution_count": 64,
   "id": "bb51d5b6",
   "metadata": {},
   "outputs": [],
   "source": [
    "response = athenaClient.start_query_execution(\n",
    "    QueryString = \"SELECT * FROM testing_us_totalus_total_latest;\",\n",
    "    QueryExecutionContext={\"Database\":SCHEMA_NAME},\n",
    "    ResultConfiguration={\n",
    "        \"OutputLocation\":S3_STAGING_DIR,\n",
    "        \"EncryptionConfiguration\":{\"EncryptionOption\":\"SSE_S3\"}    \n",
    "    })\n",
    "\n",
    "testingUStotal = download_and_load_query_results(athenaClient,response)\n",
    "testingUStotal.to_csv('testingUStotal.csv')"
   ]
  },
  {
   "cell_type": "code",
   "execution_count": 65,
   "id": "46fbc777",
   "metadata": {},
   "outputs": [],
   "source": [
    "response = athenaClient.start_query_execution(\n",
    "    QueryString = \"SELECT * FROM testing_statesstatest_latest_daily;\",\n",
    "    QueryExecutionContext={\"Database\":SCHEMA_NAME},\n",
    "    ResultConfiguration={\n",
    "        \"OutputLocation\":S3_STAGING_DIR,\n",
    "        \"EncryptionConfiguration\":{\"EncryptionOption\":\"SSE_S3\"}    \n",
    "    })\n",
    "\n",
    "testingStates = download_and_load_query_results(athenaClient,response)\n",
    "testingStates.to_csv('testingStates.csv')"
   ]
  },
  {
   "cell_type": "code",
   "execution_count": 66,
   "id": "80f6dfeb",
   "metadata": {},
   "outputs": [
    {
     "data": {
      "text/plain": [
       "Index(['fips', 'admin2', 'province_state', 'country_region', 'last_update',\n",
       "       'latitude', 'longitude', 'confirmed', 'deaths', 'recovered', 'active',\n",
       "       'combined_key'],\n",
       "      dtype='object')"
      ]
     },
     "execution_count": 66,
     "metadata": {},
     "output_type": "execute_result"
    }
   ],
   "source": [
    "enigJhu.columns"
   ]
  },
  {
   "cell_type": "code",
   "execution_count": 68,
   "id": "8e44c3a8",
   "metadata": {},
   "outputs": [],
   "source": [
    "factCovid1 = enigJhu[['fips', 'province_state', 'country_region','confirmed', 'deaths', 'recovered','active']]"
   ]
  },
  {
   "cell_type": "code",
   "execution_count": 69,
   "id": "65981000",
   "metadata": {},
   "outputs": [
    {
     "data": {
      "text/plain": [
       "Index(['date', 'state', 'positive', 'probablecases', 'negative', 'pending',\n",
       "       'totaltestresultssource', 'totaltestresults', 'hospitalizedcurrently',\n",
       "       'hospitalizedcumulative', 'inicucurrently', 'inicucumulative',\n",
       "       'onventilatorcurrently', 'onventilatorcumulative', 'recovered',\n",
       "       'lastupdateet', 'datemodified', 'checktimeet', 'death', 'hospitalized',\n",
       "       'hospitalizeddischarged', 'datechecked', 'totaltestsviral',\n",
       "       'positivetestsviral', 'negativetestsviral', 'positivecasesviral',\n",
       "       'deathconfirmed', 'deathprobable', 'totaltestencountersviral',\n",
       "       'totaltestspeopleviral', 'totaltestsantibody', 'positivetestsantibody',\n",
       "       'negativetestsantibody', 'totaltestspeopleantibody',\n",
       "       'positivetestspeopleantibody', 'negativetestspeopleantibody',\n",
       "       'totaltestspeopleantigen', 'positivetestspeopleantigen',\n",
       "       'totaltestsantigen', 'positivetestsantigen', 'fips', 'positiveincrease',\n",
       "       'negativeincrease', 'total', 'totaltestresultsincrease', 'posneg',\n",
       "       'dataqualitygrade', 'deathincrease', 'hospitalizedincrease', 'hash',\n",
       "       'commercialscore', 'negativeregularscore', 'negativescore',\n",
       "       'positivescore', 'score', 'grade'],\n",
       "      dtype='object')"
      ]
     },
     "execution_count": 69,
     "metadata": {},
     "output_type": "execute_result"
    }
   ],
   "source": [
    "testingStates.columns"
   ]
  },
  {
   "cell_type": "code",
   "execution_count": 71,
   "id": "e2c12478",
   "metadata": {},
   "outputs": [],
   "source": [
    "factCovid2 = testingStates[['fips','date', 'state', 'positive', \n",
    "                            'negative', 'hospitalizedcurrently', 'hospitalized',\n",
    "                            'hospitalizeddischarged']]"
   ]
  },
  {
   "cell_type": "code",
   "execution_count": 72,
   "id": "c7ef4380",
   "metadata": {},
   "outputs": [],
   "source": [
    "factCovid = pd.merge(factCovid1, factCovid2, on='fips', how='inner')"
   ]
  },
  {
   "cell_type": "code",
   "execution_count": 128,
   "id": "75e31aac",
   "metadata": {},
   "outputs": [],
   "source": [
    "factCovid = pd.read_csv('factCovid.csv',index_col=False)"
   ]
  },
  {
   "cell_type": "code",
   "execution_count": 132,
   "id": "5212e28b",
   "metadata": {},
   "outputs": [
    {
     "data": {
      "text/html": [
       "<div>\n",
       "<style scoped>\n",
       "    .dataframe tbody tr th:only-of-type {\n",
       "        vertical-align: middle;\n",
       "    }\n",
       "\n",
       "    .dataframe tbody tr th {\n",
       "        vertical-align: top;\n",
       "    }\n",
       "\n",
       "    .dataframe thead th {\n",
       "        text-align: right;\n",
       "    }\n",
       "</style>\n",
       "<table border=\"1\" class=\"dataframe\">\n",
       "  <thead>\n",
       "    <tr style=\"text-align: right;\">\n",
       "      <th></th>\n",
       "      <th>Unnamed: 0</th>\n",
       "      <th>fips</th>\n",
       "      <th>province_state</th>\n",
       "      <th>country_region</th>\n",
       "      <th>confirmed</th>\n",
       "      <th>deaths</th>\n",
       "      <th>recovered</th>\n",
       "      <th>active</th>\n",
       "      <th>date</th>\n",
       "      <th>state</th>\n",
       "      <th>positive</th>\n",
       "      <th>negative</th>\n",
       "      <th>hospitalizedcurrently</th>\n",
       "      <th>hospitalized</th>\n",
       "      <th>hospitalizeddischarged</th>\n",
       "    </tr>\n",
       "  </thead>\n",
       "  <tbody>\n",
       "    <tr>\n",
       "      <th>0</th>\n",
       "      <td>0</td>\n",
       "      <td>72.0</td>\n",
       "      <td>Puerto Rico</td>\n",
       "      <td>US</td>\n",
       "      <td>3.0</td>\n",
       "      <td>0.0</td>\n",
       "      <td>0.0</td>\n",
       "      <td>NaN</td>\n",
       "      <td>20210219</td>\n",
       "      <td>PR</td>\n",
       "      <td>98624.0</td>\n",
       "      <td>305972.0</td>\n",
       "      <td>214.0</td>\n",
       "      <td>NaN</td>\n",
       "      <td>NaN</td>\n",
       "    </tr>\n",
       "    <tr>\n",
       "      <th>1</th>\n",
       "      <td>1</td>\n",
       "      <td>72.0</td>\n",
       "      <td>Puerto Rico</td>\n",
       "      <td>US</td>\n",
       "      <td>3.0</td>\n",
       "      <td>0.0</td>\n",
       "      <td>0.0</td>\n",
       "      <td>NaN</td>\n",
       "      <td>20210218</td>\n",
       "      <td>PR</td>\n",
       "      <td>98506.0</td>\n",
       "      <td>305972.0</td>\n",
       "      <td>233.0</td>\n",
       "      <td>NaN</td>\n",
       "      <td>NaN</td>\n",
       "    </tr>\n",
       "    <tr>\n",
       "      <th>2</th>\n",
       "      <td>2</td>\n",
       "      <td>72.0</td>\n",
       "      <td>Puerto Rico</td>\n",
       "      <td>US</td>\n",
       "      <td>3.0</td>\n",
       "      <td>0.0</td>\n",
       "      <td>0.0</td>\n",
       "      <td>NaN</td>\n",
       "      <td>20210217</td>\n",
       "      <td>PR</td>\n",
       "      <td>98428.0</td>\n",
       "      <td>305972.0</td>\n",
       "      <td>241.0</td>\n",
       "      <td>NaN</td>\n",
       "      <td>NaN</td>\n",
       "    </tr>\n",
       "    <tr>\n",
       "      <th>3</th>\n",
       "      <td>3</td>\n",
       "      <td>72.0</td>\n",
       "      <td>Puerto Rico</td>\n",
       "      <td>US</td>\n",
       "      <td>3.0</td>\n",
       "      <td>0.0</td>\n",
       "      <td>0.0</td>\n",
       "      <td>NaN</td>\n",
       "      <td>20210216</td>\n",
       "      <td>PR</td>\n",
       "      <td>98317.0</td>\n",
       "      <td>305972.0</td>\n",
       "      <td>220.0</td>\n",
       "      <td>NaN</td>\n",
       "      <td>NaN</td>\n",
       "    </tr>\n",
       "    <tr>\n",
       "      <th>4</th>\n",
       "      <td>4</td>\n",
       "      <td>72.0</td>\n",
       "      <td>Puerto Rico</td>\n",
       "      <td>US</td>\n",
       "      <td>3.0</td>\n",
       "      <td>0.0</td>\n",
       "      <td>0.0</td>\n",
       "      <td>NaN</td>\n",
       "      <td>20210215</td>\n",
       "      <td>PR</td>\n",
       "      <td>97837.0</td>\n",
       "      <td>305972.0</td>\n",
       "      <td>209.0</td>\n",
       "      <td>NaN</td>\n",
       "      <td>NaN</td>\n",
       "    </tr>\n",
       "  </tbody>\n",
       "</table>\n",
       "</div>"
      ],
      "text/plain": [
       "   Unnamed: 0  fips province_state country_region  confirmed  deaths  \\\n",
       "0           0  72.0    Puerto Rico             US        3.0     0.0   \n",
       "1           1  72.0    Puerto Rico             US        3.0     0.0   \n",
       "2           2  72.0    Puerto Rico             US        3.0     0.0   \n",
       "3           3  72.0    Puerto Rico             US        3.0     0.0   \n",
       "4           4  72.0    Puerto Rico             US        3.0     0.0   \n",
       "\n",
       "   recovered  active      date state  positive  negative  \\\n",
       "0        0.0     NaN  20210219    PR   98624.0  305972.0   \n",
       "1        0.0     NaN  20210218    PR   98506.0  305972.0   \n",
       "2        0.0     NaN  20210217    PR   98428.0  305972.0   \n",
       "3        0.0     NaN  20210216    PR   98317.0  305972.0   \n",
       "4        0.0     NaN  20210215    PR   97837.0  305972.0   \n",
       "\n",
       "   hospitalizedcurrently  hospitalized  hospitalizeddischarged  \n",
       "0                  214.0           NaN                     NaN  \n",
       "1                  233.0           NaN                     NaN  \n",
       "2                  241.0           NaN                     NaN  \n",
       "3                  220.0           NaN                     NaN  \n",
       "4                  209.0           NaN                     NaN  "
      ]
     },
     "execution_count": 132,
     "metadata": {},
     "output_type": "execute_result"
    }
   ],
   "source": [
    "factCovid.head()"
   ]
  },
  {
   "cell_type": "code",
   "execution_count": 74,
   "id": "b8aceb0f",
   "metadata": {},
   "outputs": [],
   "source": [
    "dimRegion1 = enigJhu[['fips','province_state', 'country_region','latitude', 'longitude']]\n",
    "dimRegion2 = nytusCounties[['fips','county','state']]"
   ]
  },
  {
   "cell_type": "code",
   "execution_count": 78,
   "id": "1e45ada5",
   "metadata": {},
   "outputs": [],
   "source": [
    "dimHospital = hospitalBeds[['fips','state_name','hospital_name', 'hospital_type', \n",
    "                            'hq_address','hq_city', 'hq_state',\n",
    "                            'latitude', 'longtitude']]"
   ]
  },
  {
   "cell_type": "code",
   "execution_count": 3,
   "id": "91f416f0",
   "metadata": {},
   "outputs": [],
   "source": [
    "import pandas as pd"
   ]
  },
  {
   "cell_type": "code",
   "execution_count": 85,
   "id": "13a80ce4",
   "metadata": {},
   "outputs": [],
   "source": [
    "dimHospital = pd.read_csv('dimhospital.csv')"
   ]
  },
  {
   "cell_type": "code",
   "execution_count": 86,
   "id": "9d4fe76f",
   "metadata": {},
   "outputs": [],
   "source": [
    "dimRegion1 = pd.read_csv('dimReg1.csv')"
   ]
  },
  {
   "cell_type": "code",
   "execution_count": 88,
   "id": "c5e7920a",
   "metadata": {},
   "outputs": [],
   "source": [
    "dimRegion2 = pd.read_csv('dimReg2.csv')"
   ]
  },
  {
   "cell_type": "code",
   "execution_count": 82,
   "id": "b1dca02d",
   "metadata": {},
   "outputs": [],
   "source": [
    "bucket = 'de-glued'"
   ]
  },
  {
   "cell_type": "code",
   "execution_count": 83,
   "id": "2925ece5",
   "metadata": {},
   "outputs": [],
   "source": [
    "csv_buff = StringIO()"
   ]
  },
  {
   "cell_type": "code",
   "execution_count": 84,
   "id": "4a3b792d",
   "metadata": {},
   "outputs": [],
   "source": [
    "factCovid.to_csv(csv_buff)"
   ]
  },
  {
   "cell_type": "code",
   "execution_count": 85,
   "id": "a8c064eb",
   "metadata": {},
   "outputs": [
    {
     "data": {
      "text/plain": [
       "{'ResponseMetadata': {'RequestId': 'FJCGNN4YX4B4YPGR',\n",
       "  'HostId': 'ufYTHGC/tcCGaMnEjkCiE051GNx+yKVne0/1EsmhBuwwPfGoS6WoQuKUZO9thV/dZtAzJ9mMc20=',\n",
       "  'HTTPStatusCode': 200,\n",
       "  'HTTPHeaders': {'x-amz-id-2': 'ufYTHGC/tcCGaMnEjkCiE051GNx+yKVne0/1EsmhBuwwPfGoS6WoQuKUZO9thV/dZtAzJ9mMc20=',\n",
       "   'x-amz-request-id': 'FJCGNN4YX4B4YPGR',\n",
       "   'date': 'Sun, 30 Oct 2022 09:52:03 GMT',\n",
       "   'etag': '\"f31927bc2851b035acd5020930418316\"',\n",
       "   'server': 'AmazonS3',\n",
       "   'content-length': '0'},\n",
       "  'RetryAttempts': 0},\n",
       " 'ETag': '\"f31927bc2851b035acd5020930418316\"'}"
      ]
     },
     "execution_count": 85,
     "metadata": {},
     "output_type": "execute_result"
    }
   ],
   "source": [
    "s3Reso = boto3.resource('s3')\n",
    "s3Reso.Object(bucket,'output/factcovid.csv').put(Body=csv_buff.getvalue())"
   ]
  },
  {
   "cell_type": "code",
   "execution_count": 86,
   "id": "df1e2d37",
   "metadata": {},
   "outputs": [],
   "source": [
    "dimHospital.to_csv(csv_buff)"
   ]
  },
  {
   "cell_type": "code",
   "execution_count": 87,
   "id": "a1668e78",
   "metadata": {},
   "outputs": [
    {
     "data": {
      "text/plain": [
       "{'ResponseMetadata': {'RequestId': 'DR9WZPDT7AJSRNKK',\n",
       "  'HostId': 'SmuwdPDosEwW0yMerj62GpmeBAf95ETk0TkiNqcs7dSOLc/m6BGMQI3GscyNPqmR0/Q6Rkvdma8=',\n",
       "  'HTTPStatusCode': 200,\n",
       "  'HTTPHeaders': {'x-amz-id-2': 'SmuwdPDosEwW0yMerj62GpmeBAf95ETk0TkiNqcs7dSOLc/m6BGMQI3GscyNPqmR0/Q6Rkvdma8=',\n",
       "   'x-amz-request-id': 'DR9WZPDT7AJSRNKK',\n",
       "   'date': 'Sun, 30 Oct 2022 09:53:49 GMT',\n",
       "   'etag': '\"052b91a93c128f0920be05c2066e5f13\"',\n",
       "   'server': 'AmazonS3',\n",
       "   'content-length': '0'},\n",
       "  'RetryAttempts': 0},\n",
       " 'ETag': '\"052b91a93c128f0920be05c2066e5f13\"'}"
      ]
     },
     "execution_count": 87,
     "metadata": {},
     "output_type": "execute_result"
    }
   ],
   "source": [
    "s3Reso.Object(bucket,'output/dimHospital.csv').put(Body=csv_buff.getvalue())"
   ]
  },
  {
   "cell_type": "code",
   "execution_count": 88,
   "id": "0d32631e",
   "metadata": {},
   "outputs": [],
   "source": [
    "dimRegion2.to_csv(csv_buff)"
   ]
  },
  {
   "cell_type": "code",
   "execution_count": 89,
   "id": "da8fc44f",
   "metadata": {},
   "outputs": [
    {
     "data": {
      "text/plain": [
       "{'ResponseMetadata': {'RequestId': 'A38ZYQ8GH0EZPB4Q',\n",
       "  'HostId': 's/Lo3j39XdhQ5eToV5jPNmYmi57C1p1mYlMJwlZzLPgQ75PLp7Yi9obkinTiTefUO2QvZ6HPkqU=',\n",
       "  'HTTPStatusCode': 200,\n",
       "  'HTTPHeaders': {'x-amz-id-2': 's/Lo3j39XdhQ5eToV5jPNmYmi57C1p1mYlMJwlZzLPgQ75PLp7Yi9obkinTiTefUO2QvZ6HPkqU=',\n",
       "   'x-amz-request-id': 'A38ZYQ8GH0EZPB4Q',\n",
       "   'date': 'Sun, 30 Oct 2022 09:54:42 GMT',\n",
       "   'etag': '\"38772b5e9abe9a26aff5357caaca014d\"',\n",
       "   'server': 'AmazonS3',\n",
       "   'content-length': '0'},\n",
       "  'RetryAttempts': 0},\n",
       " 'ETag': '\"38772b5e9abe9a26aff5357caaca014d\"'}"
      ]
     },
     "execution_count": 89,
     "metadata": {},
     "output_type": "execute_result"
    }
   ],
   "source": [
    "s3Reso.Object(bucket,'output/dimRegion2.csv').put(Body=csv_buff.getvalue())"
   ]
  },
  {
   "cell_type": "code",
   "execution_count": 90,
   "id": "4876eca1",
   "metadata": {},
   "outputs": [],
   "source": [
    "dimRegion1.to_csv(csv_buff)"
   ]
  },
  {
   "cell_type": "code",
   "execution_count": 91,
   "id": "3015386d",
   "metadata": {},
   "outputs": [
    {
     "data": {
      "text/plain": [
       "{'ResponseMetadata': {'RequestId': 'F7GEQ1MR2EZWD1NX',\n",
       "  'HostId': 'jIPKCPM9u2r3VDMW+uPLxhSNNhoPxDC7gH+dftn/Ja+idHdGmrDxzZ9i053PJHizwO0T03M8tt8=',\n",
       "  'HTTPStatusCode': 200,\n",
       "  'HTTPHeaders': {'x-amz-id-2': 'jIPKCPM9u2r3VDMW+uPLxhSNNhoPxDC7gH+dftn/Ja+idHdGmrDxzZ9i053PJHizwO0T03M8tt8=',\n",
       "   'x-amz-request-id': 'F7GEQ1MR2EZWD1NX',\n",
       "   'date': 'Sun, 30 Oct 2022 09:56:06 GMT',\n",
       "   'etag': '\"07ec7728c5eabbdb5385fe2779283572\"',\n",
       "   'server': 'AmazonS3',\n",
       "   'content-length': '0'},\n",
       "  'RetryAttempts': 0},\n",
       " 'ETag': '\"07ec7728c5eabbdb5385fe2779283572\"'}"
      ]
     },
     "execution_count": 91,
     "metadata": {},
     "output_type": "execute_result"
    }
   ],
   "source": [
    "s3Reso.Object(bucket,'output/dimRegion1.csv').put(Body=csv_buff.getvalue())"
   ]
  },
  {
   "cell_type": "code",
   "execution_count": 129,
   "id": "3c8364bf",
   "metadata": {},
   "outputs": [],
   "source": [
    "factCovidSql = pd.io.sql.get_schema(factCovid.reset_index(),'factCovid')"
   ]
  },
  {
   "cell_type": "code",
   "execution_count": 89,
   "id": "f00e2f74",
   "metadata": {},
   "outputs": [],
   "source": [
    "dimHospitalSql = pd.io.sql.get_schema(dimHospital.reset_index(),'dimHospital')"
   ]
  },
  {
   "cell_type": "code",
   "execution_count": 90,
   "id": "07b05a98",
   "metadata": {},
   "outputs": [],
   "source": [
    "dimRegion1 = pd.io.sql.get_schema(dimRegion1.reset_index(),'dimRegion1')"
   ]
  },
  {
   "cell_type": "code",
   "execution_count": 91,
   "id": "a5ac90e3",
   "metadata": {},
   "outputs": [],
   "source": [
    "dimRegion2 = pd.io.sql.get_schema(dimRegion2.reset_index(),'dimRegion2')"
   ]
  },
  {
   "cell_type": "code",
   "execution_count": 131,
   "id": "0c0027c1",
   "metadata": {},
   "outputs": [
    {
     "name": "stdout",
     "output_type": "stream",
     "text": [
      "CREATE TABLE \"factCovid\" (\n",
      "\"index\" INTEGER,\n",
      "  \"Unnamed: 0\" INTEGER,\n",
      "  \"fips\" REAL,\n",
      "  \"province_state\" TEXT,\n",
      "  \"country_region\" TEXT,\n",
      "  \"confirmed\" REAL,\n",
      "  \"deaths\" REAL,\n",
      "  \"recovered\" REAL,\n",
      "  \"active\" REAL,\n",
      "  \"date\" INTEGER,\n",
      "  \"state\" TEXT,\n",
      "  \"positive\" REAL,\n",
      "  \"negative\" REAL,\n",
      "  \"hospitalizedcurrently\" REAL,\n",
      "  \"hospitalized\" REAL,\n",
      "  \"hospitalizeddischarged\" REAL\n",
      ")\n"
     ]
    }
   ],
   "source": [
    "print(\"\".join(factCovidSql))"
   ]
  },
  {
   "cell_type": "code",
   "execution_count": 111,
   "id": "1830eb3c",
   "metadata": {},
   "outputs": [
    {
     "data": {
      "text/plain": [
       "'CREATE TABLE \"factCovid\" (\\n\"Unnamed: 0\" INTEGER,\\n  \"fips\" REAL,\\n  \"province_state\" TEXT,\\n  \"country_region\" TEXT,\\n  \"confirmed\" REAL,\\n  \"deaths\" REAL,\\n  \"recovered\" REAL,\\n  \"active\" REAL,\\n  \"date\" INTEGER,\\n  \"state\" TEXT,\\n  \"positive\" REAL,\\n  \"negative\" REAL,\\n  \"hospitalizedcurrently\" REAL,\\n  \"hospitalized\" REAL,\\n  \"hospitalizeddischarged\" REAL\\n)'"
      ]
     },
     "execution_count": 111,
     "metadata": {},
     "output_type": "execute_result"
    }
   ],
   "source": [
    "pd.io.sql.get_schema(factCovid,'factCovid')"
   ]
  },
  {
   "cell_type": "code",
   "execution_count": 93,
   "id": "1fa7a466",
   "metadata": {},
   "outputs": [
    {
     "data": {
      "text/plain": [
       "'CREATE TABLE \"dimHospital\" (\\n\"index\" INTEGER,\\n  \"Unnamed: 0\" INTEGER,\\n  \"fips\" REAL,\\n  \"state_name\" TEXT,\\n  \"hospital_name\" TEXT,\\n  \"hospital_type\" TEXT,\\n  \"hq_address\" TEXT,\\n  \"hq_city\" TEXT,\\n  \"hq_state\" TEXT,\\n  \"latitude\" REAL,\\n  \"longtitude\" REAL\\n)'"
      ]
     },
     "execution_count": 93,
     "metadata": {},
     "output_type": "execute_result"
    }
   ],
   "source": [
    "dimHospitalSql\n"
   ]
  },
  {
   "cell_type": "code",
   "execution_count": 94,
   "id": "68d4c5b4",
   "metadata": {},
   "outputs": [
    {
     "data": {
      "text/plain": [
       "'CREATE TABLE \"dimRegion1\" (\\n\"index\" INTEGER,\\n  \"Unnamed: 0\" INTEGER,\\n  \"fips\" REAL,\\n  \"province_state\" TEXT,\\n  \"country_region\" TEXT,\\n  \"latitude\" REAL,\\n  \"longitude\" REAL\\n)'"
      ]
     },
     "execution_count": 94,
     "metadata": {},
     "output_type": "execute_result"
    }
   ],
   "source": [
    "dimRegion1"
   ]
  },
  {
   "cell_type": "code",
   "execution_count": 95,
   "id": "dc987f83",
   "metadata": {},
   "outputs": [
    {
     "data": {
      "text/plain": [
       "'CREATE TABLE \"dimRegion2\" (\\n\"index\" INTEGER,\\n  \"Unnamed: 0\" INTEGER,\\n  \"fips\" REAL,\\n  \"county\" TEXT,\\n  \"state\" TEXT\\n)'"
      ]
     },
     "execution_count": 95,
     "metadata": {},
     "output_type": "execute_result"
    }
   ],
   "source": [
    "dimRegion2"
   ]
  },
  {
   "cell_type": "code",
   "execution_count": 4,
   "id": "fff58dda",
   "metadata": {},
   "outputs": [],
   "source": [
    "#Initiating Config"
   ]
  },
  {
   "cell_type": "code",
   "execution_count": 45,
   "id": "b2422f41",
   "metadata": {},
   "outputs": [
    {
     "data": {
      "text/plain": [
       "'redshift-s3-access'"
      ]
     },
     "execution_count": 45,
     "metadata": {},
     "output_type": "execute_result"
    }
   ],
   "source": [
    "(DWH_IAM_ROLE_NAME)"
   ]
  },
  {
   "cell_type": "code",
   "execution_count": 6,
   "id": "0166ff56",
   "metadata": {},
   "outputs": [],
   "source": [
    "import boto3"
   ]
  },
  {
   "cell_type": "code",
   "execution_count": 7,
   "id": "247bf59d",
   "metadata": {},
   "outputs": [],
   "source": [
    "import configparser"
   ]
  },
  {
   "cell_type": "code",
   "execution_count": 2,
   "id": "d6cdeb7f",
   "metadata": {},
   "outputs": [
    {
     "ename": "NameError",
     "evalue": "name 'configparser' is not defined",
     "output_type": "error",
     "traceback": [
      "\u001b[0;31m---------------------------------------------------------------------------\u001b[0m",
      "\u001b[0;31mNameError\u001b[0m                                 Traceback (most recent call last)",
      "Cell \u001b[0;32mIn [2], line 1\u001b[0m\n\u001b[0;32m----> 1\u001b[0m config \u001b[38;5;241m=\u001b[39m configparser\u001b[38;5;241m.\u001b[39mConfigParser()\n",
      "\u001b[0;31mNameError\u001b[0m: name 'configparser' is not defined"
     ]
    }
   ],
   "source": [
    "config = configparser.ConfigParser()"
   ]
  },
  {
   "cell_type": "code",
   "execution_count": 1,
   "id": "5b50a309",
   "metadata": {},
   "outputs": [
    {
     "ename": "NameError",
     "evalue": "name 'config' is not defined",
     "output_type": "error",
     "traceback": [
      "\u001b[0;31m---------------------------------------------------------------------------\u001b[0m",
      "\u001b[0;31mNameError\u001b[0m                                 Traceback (most recent call last)",
      "Cell \u001b[0;32mIn [1], line 1\u001b[0m\n\u001b[0;32m----> 1\u001b[0m config\u001b[38;5;241m.\u001b[39mread_file(\u001b[38;5;28mopen\u001b[39m(\u001b[38;5;124m'\u001b[39m\u001b[38;5;124mpost.config\u001b[39m\u001b[38;5;124m'\u001b[39m))\n",
      "\u001b[0;31mNameError\u001b[0m: name 'config' is not defined"
     ]
    }
   ],
   "source": [
    "config.read_file(open('post.config'))"
   ]
  },
  {
   "cell_type": "code",
   "execution_count": 47,
   "id": "4d719646",
   "metadata": {},
   "outputs": [],
   "source": [
    "KEY = config.get('AWS','KEY')\n",
    "SECRET = config.get('AWS','SECRET')\n",
    "\n",
    "DWH_CLUSTER_TYPE=config.get('DWH','DWH_CLUSTER_TYPE')\n",
    "DWH_NUM_NODES=config.get('DWH','DWH_NUM_NODES')\n",
    "DWH_NODE_TYPE=config.get('DWH','DWH_NODE_TYPE')\n",
    "DWH_CLUSTER_IDENTIFIER=config.get('DWH','DWH_CLUSTER_IDENTIFIER')\n",
    "DWH_DB=config.get('DWH','DWH_DB')\n",
    "DWH_DB_USER=config.get('DWH','DWH_DB_USER')\n",
    "DWH_DB_PASSWORD=config.get('DWH','DWH_DB_PASSWORD')\n",
    "DWH_PORT=config.get('DWH','DWH_PORT')\n",
    "DWH_IAM_ROLE_NAME=config.get('DWH','DWH_IAM_ROLE_NAME')"
   ]
  },
  {
   "cell_type": "code",
   "execution_count": 48,
   "id": "31e8eec9",
   "metadata": {},
   "outputs": [
    {
     "data": {
      "text/plain": [
       "'redshiftRole'"
      ]
     },
     "execution_count": 48,
     "metadata": {},
     "output_type": "execute_result"
    }
   ],
   "source": [
    "config.get('DWH','DWH_IAM_ROLE_NAME')"
   ]
  },
  {
   "cell_type": "code",
   "execution_count": 17,
   "id": "d1680c19",
   "metadata": {},
   "outputs": [],
   "source": [
    "ec2 = boto3.resource('ec2',\n",
    "                    region_name=\"us-east-1\",\n",
    "                    aws_access_key_id=KEY,\n",
    "                    aws_secret_access_key=SECRET)"
   ]
  },
  {
   "cell_type": "code",
   "execution_count": 43,
   "id": "0e7f74cc",
   "metadata": {},
   "outputs": [],
   "source": [
    "iam = boto3.client('iam',\n",
    "                    region_name=\"us-east-1\",\n",
    "                    aws_access_key_id=KEY,\n",
    "                    aws_secret_access_key=SECRET)"
   ]
  },
  {
   "cell_type": "code",
   "execution_count": 21,
   "id": "834ce31f",
   "metadata": {},
   "outputs": [],
   "source": [
    "redshift = boto3.client('redshift',\n",
    "                    region_name=\"us-east-1\",\n",
    "                    aws_access_key_id=KEY,\n",
    "                    aws_secret_access_key=SECRET)"
   ]
  },
  {
   "cell_type": "code",
   "execution_count": 22,
   "id": "f4bdb262",
   "metadata": {},
   "outputs": [],
   "source": [
    "s3 = boto3.resource('s3',\n",
    "                    region_name=\"us-east-1\",\n",
    "                    aws_access_key_id=KEY,\n",
    "                    aws_secret_access_key=SECRET)"
   ]
  },
  {
   "cell_type": "code",
   "execution_count": 33,
   "id": "3f6e7127",
   "metadata": {},
   "outputs": [],
   "source": [
    "bucket = s3.Bucket(\"de-glued\")"
   ]
  },
  {
   "cell_type": "code",
   "execution_count": 36,
   "id": "d3eb4fa1",
   "metadata": {},
   "outputs": [],
   "source": [
    "locFile = [filename.key for filename in bucket.objects.filter(Prefix='output/Unsaved/2022/10')]"
   ]
  },
  {
   "cell_type": "code",
   "execution_count": 53,
   "id": "6ad91f10",
   "metadata": {},
   "outputs": [],
   "source": [
    "roleARN = iam.get_role(RoleName=DWH_IAM_ROLE_NAME)"
   ]
  },
  {
   "cell_type": "code",
   "execution_count": 58,
   "id": "be5533db",
   "metadata": {},
   "outputs": [],
   "source": [
    "iamArn = roleARN['Role']['Arn']"
   ]
  },
  {
   "cell_type": "code",
   "execution_count": 59,
   "id": "a5bcfbe6",
   "metadata": {},
   "outputs": [],
   "source": [
    "try:\n",
    "    response = redshift.create_cluster(\n",
    "        ClusterType=DWH_CLUSTER_TYPE,\n",
    "        NodeType=DWH_NODE_TYPE,\n",
    "        DBName=DWH_DB,\n",
    "        ClusterIdentifier=DWH_CLUSTER_IDENTIFIER,\n",
    "        MasterUsername=DWH_DB_USER,\n",
    "        MasterUserPassword=DWH_DB_PASSWORD,\n",
    "        IamRoles=[iamArn]\n",
    "    )\n",
    "except Exception as e:\n",
    "    print(e)"
   ]
  },
  {
   "cell_type": "code",
   "execution_count": 66,
   "id": "11b20049",
   "metadata": {},
   "outputs": [],
   "source": [
    "clusterProp = redshift.describe_clusters(ClusterIdentifier=DWH_CLUSTER_IDENTIFIER)['Clusters'][0]"
   ]
  },
  {
   "cell_type": "code",
   "execution_count": 68,
   "id": "8af2c9b4",
   "metadata": {},
   "outputs": [],
   "source": [
    "DWH_ENDPOINT = clusterProp['Endpoint']['Address']\n",
    "DWH_ROLE_ARN = clusterProp['IamRoles'][0]['IamRoleArn']\n",
    "DB_NAME=clusterProp['DBName']\n",
    "DB_USER= clusterProp['MasterUsername']"
   ]
  },
  {
   "cell_type": "code",
   "execution_count": 69,
   "id": "696f7e1f",
   "metadata": {},
   "outputs": [
    {
     "data": {
      "text/plain": [
       "'redshift-covid.cyg2sluuahwh.us-east-1.redshift.amazonaws.com'"
      ]
     },
     "execution_count": 69,
     "metadata": {},
     "output_type": "execute_result"
    }
   ],
   "source": [
    "DWH_ENDPOINT"
   ]
  },
  {
   "cell_type": "code",
   "execution_count": 70,
   "id": "425e7bc0",
   "metadata": {},
   "outputs": [
    {
     "data": {
      "text/plain": [
       "'vpc-0b4db824c1d632c16'"
      ]
     },
     "execution_count": 70,
     "metadata": {},
     "output_type": "execute_result"
    }
   ],
   "source": [
    "clusterProp['VpcId']"
   ]
  },
  {
   "cell_type": "code",
   "execution_count": 74,
   "id": "0d7e76eb",
   "metadata": {},
   "outputs": [
    {
     "name": "stdout",
     "output_type": "stream",
     "text": [
      "ec2.SecurityGroup(id='sg-0290e6034c427a02a')\n"
     ]
    }
   ],
   "source": [
    "try:\n",
    "    vpc = ec2.Vpc(id=clusterProp['VpcId'])\n",
    "    defaultSg = list(vpc.security_groups.all())[0]\n",
    "    print(defaultSg)\n",
    "    \n",
    "    defaultSg.authorize_ingress(\n",
    "            GroupName=defaultSg.group_name,\n",
    "            CidrIp='0.0.0.0/0',\n",
    "            IpProtocol='TCP',\n",
    "            FromPort=int(DWH_PORT),\n",
    "            ToPort=int(DWH_PORT)\n",
    "    )\n",
    "except Exception as e:\n",
    "    print(e)"
   ]
  },
  {
   "cell_type": "code",
   "execution_count": 75,
   "id": "c377213c",
   "metadata": {},
   "outputs": [],
   "source": [
    "import redshift_connector"
   ]
  },
  {
   "cell_type": "code",
   "execution_count": 76,
   "id": "ab47e6d8",
   "metadata": {},
   "outputs": [],
   "source": [
    "import psycopg2"
   ]
  },
  {
   "cell_type": "code",
   "execution_count": 113,
   "id": "d9e15950",
   "metadata": {},
   "outputs": [],
   "source": [
    "try:\n",
    "    conn = psycopg2.connect(host=DWH_ENDPOINT,dbname=DB_NAME,user=DB_USER,password=DWH_DB_PASSWORD,port=DWH_PORT)\n",
    "except Exception as e:\n",
    "    print(e)"
   ]
  },
  {
   "cell_type": "code",
   "execution_count": 114,
   "id": "cce5b260",
   "metadata": {},
   "outputs": [],
   "source": [
    "conn.set_session(autocommit=True)"
   ]
  },
  {
   "cell_type": "code",
   "execution_count": 115,
   "id": "9dffd99d",
   "metadata": {},
   "outputs": [],
   "source": [
    "try:\n",
    "    cur = conn.cursor()\n",
    "    \n",
    "except:\n",
    "    print(e)"
   ]
  },
  {
   "cell_type": "code",
   "execution_count": 133,
   "id": "4da312ec",
   "metadata": {},
   "outputs": [],
   "source": [
    "try:\n",
    "    cur.execute(\"\"\"\n",
    "        CREATE TABLE \"factcorrected\" (\n",
    "            \"index\" INTEGER,\n",
    "          \"fips\" REAL,\n",
    "          \"province_state\" TEXT,\n",
    "          \"country_region\" TEXT,\n",
    "          \"confirmed\" REAL,\n",
    "          \"deaths\" REAL,\n",
    "          \"recovered\" REAL,\n",
    "          \"active\" REAL,\n",
    "          \"date\" INTEGER,\n",
    "          \"state\" TEXT,\n",
    "          \"positive\" REAL,\n",
    "          \"negative\" REAL,\n",
    "          \"hospitalizedcurrently\" REAL,\n",
    "          \"hospitalized\" REAL,\n",
    "          \"hospitalizeddischarged\" REAL\n",
    "    )\n",
    "    \"\"\")\n",
    "except Exception as e:\n",
    "    print(e)"
   ]
  },
  {
   "cell_type": "code",
   "execution_count": 125,
   "id": "a081974e",
   "metadata": {},
   "outputs": [
    {
     "data": {
      "text/plain": [
       "'arn:aws:iam::642924624251:role/redshiftRole'"
      ]
     },
     "execution_count": 125,
     "metadata": {},
     "output_type": "execute_result"
    }
   ],
   "source": [
    "DWH_ROLE_ARN"
   ]
  },
  {
   "cell_type": "code",
   "execution_count": 134,
   "id": "4cc47445",
   "metadata": {},
   "outputs": [
    {
     "name": "stdout",
     "output_type": "stream",
     "text": [
      "Load into table 'factcorrected' failed.  Check 'stl_load_errors' system table for details.\n",
      "\n"
     ]
    }
   ],
   "source": [
    "try:\n",
    "    cur.execute(\"\"\"\n",
    "        COPY factcorrected from 's3://de-glued/output/factcovid.csv'\n",
    "        CREDENTIALS 'aws_iam_role=arn:aws:iam::642924624251:role/redshiftRole'\n",
    "        DELIMITER ','\n",
    "        region 'us-east-1'\n",
    "    \"\"\")\n",
    "except Exception as e:\n",
    "    print(e)"
   ]
  },
  {
   "cell_type": "code",
   "execution_count": null,
   "id": "016b2cc4",
   "metadata": {},
   "outputs": [],
   "source": []
  }
 ],
 "metadata": {
  "kernelspec": {
   "display_name": "Python 3 (ipykernel)",
   "language": "python",
   "name": "python3"
  },
  "language_info": {
   "codemirror_mode": {
    "name": "ipython",
    "version": 3
   },
   "file_extension": ".py",
   "mimetype": "text/x-python",
   "name": "python",
   "nbconvert_exporter": "python",
   "pygments_lexer": "ipython3",
   "version": "3.10.8"
  }
 },
 "nbformat": 4,
 "nbformat_minor": 5
}
